{
 "cells": [
  {
   "cell_type": "markdown",
   "id": "00483604-48f0-49f2-b294-ce06a4200e09",
   "metadata": {},
   "source": [
    "# Basics Of Python"
   ]
  },
  {
   "cell_type": "markdown",
   "id": "81ccfdba-f4e8-456d-84c5-ab455b344b95",
   "metadata": {},
   "source": [
    "## Input and print output on screen"
   ]
  },
  {
   "cell_type": "code",
   "execution_count": 1,
   "id": "fb4f26ee-bae3-4d54-93c4-1d7e22fbd629",
   "metadata": {},
   "outputs": [
    {
     "name": "stdin",
     "output_type": "stream",
     "text": [
      "Write Something:  Hi\n"
     ]
    },
    {
     "name": "stdout",
     "output_type": "stream",
     "text": [
      "Hi\n"
     ]
    }
   ],
   "source": [
    "string_input_1 = input(\"Write Something: \")\n",
    "print(string_input_1)"
   ]
  },
  {
   "cell_type": "markdown",
   "id": "a1b17ff7-c106-407e-af82-a1086efa00c4",
   "metadata": {},
   "source": [
    "## Lets do some math"
   ]
  },
  {
   "cell_type": "code",
   "execution_count": 2,
   "id": "639f65c1-b991-4ce0-adce-3c1a6879c9a4",
   "metadata": {},
   "outputs": [
    {
     "name": "stdin",
     "output_type": "stream",
     "text": [
      "Enter number 1:  1\n",
      "Enter number 2:  2\n"
     ]
    },
    {
     "name": "stdout",
     "output_type": "stream",
     "text": [
      "The sum of 1 and 2 is: 3\n"
     ]
    }
   ],
   "source": [
    "# Take two numbers as input and add them then print sum on screen.\n",
    "number_1 = int(input(\"Enter number 1: \"))\n",
    "number_2 = int(input(\"Enter number 2: \"))\n",
    "sum_of_numbers = number_1 + number_2\n",
    "print(f\"The sum of {number_1} and {number_2} is: {sum_of_numbers}\")"
   ]
  },
  {
   "cell_type": "markdown",
   "id": "a2953edd-2fa0-4750-a587-384dde2cb4d4",
   "metadata": {},
   "source": [
    "## Loops in python"
   ]
  },
  {
   "cell_type": "code",
   "execution_count": 3,
   "id": "e45f40bc-e79a-464a-871b-9c725d08a2c4",
   "metadata": {},
   "outputs": [
    {
     "name": "stdout",
     "output_type": "stream",
     "text": [
      "1\n",
      "2\n",
      "3\n",
      "4\n",
      "5\n"
     ]
    }
   ],
   "source": [
    "# Write a program to print 1 to 5 using for loop\n",
    "for i in range(1,6):\n",
    "    print(i)"
   ]
  },
  {
   "cell_type": "code",
   "execution_count": 4,
   "id": "9f9d562e-c7ca-4e3c-853d-4c5060693766",
   "metadata": {},
   "outputs": [
    {
     "name": "stdout",
     "output_type": "stream",
     "text": [
      "1\n",
      "2\n",
      "3\n",
      "4\n",
      "5\n"
     ]
    }
   ],
   "source": [
    "# Write a program to print 1 to 5 using while loop\n",
    "count = 1\n",
    "while(count<=5):\n",
    "    print(count)\n",
    "    count = count+1"
   ]
  },
  {
   "cell_type": "markdown",
   "id": "a6062eda-fba9-4468-85f0-01693e52d5d2",
   "metadata": {},
   "source": [
    "## Conditional Statements"
   ]
  },
  {
   "cell_type": "code",
   "execution_count": 5,
   "id": "d9b2e1d3-c141-43b5-8b0d-ecfae7e94e91",
   "metadata": {},
   "outputs": [
    {
     "name": "stdout",
     "output_type": "stream",
     "text": [
      "Age is between 21 to 30\n"
     ]
    }
   ],
   "source": [
    "age = 24\n",
    "if(age>=21 and age<=30):\n",
    "    print(\"Age is between 21 to 30\")\n",
    "elif(age>=31 and age<=40):\n",
    "    print(\"Age is between 31 to 40\")\n",
    "elif(age>=41 and age<=50):\n",
    "    print(\"Age is between 41 to 50\")\n",
    "else:\n",
    "    print(\"Age is >50 or 21<\")\n"
   ]
  },
  {
   "cell_type": "markdown",
   "id": "5d168f3a-ffb0-45f7-a286-afa7c2ef8ef7",
   "metadata": {},
   "source": [
    "## Define a Function"
   ]
  },
  {
   "cell_type": "code",
   "execution_count": 6,
   "id": "15af0dd3-e22e-4fb2-8bad-9a03a30e0929",
   "metadata": {},
   "outputs": [
    {
     "name": "stdout",
     "output_type": "stream",
     "text": [
      "3\n"
     ]
    }
   ],
   "source": [
    "def add(number_1, number_2):\n",
    "    sum_of_numbers = number_1 + number_2\n",
    "    return sum_of_numbers\n",
    "print(add(1,2))"
   ]
  }
 ],
 "metadata": {
  "kernelspec": {
   "display_name": "Python 3 (ipykernel)",
   "language": "python",
   "name": "python3"
  },
  "language_info": {
   "codemirror_mode": {
    "name": "ipython",
    "version": 3
   },
   "file_extension": ".py",
   "mimetype": "text/x-python",
   "name": "python",
   "nbconvert_exporter": "python",
   "pygments_lexer": "ipython3",
   "version": "3.12.4"
  }
 },
 "nbformat": 4,
 "nbformat_minor": 5
}
