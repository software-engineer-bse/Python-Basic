{
 "cells": [
  {
   "cell_type": "markdown",
   "id": "75fbb471-757e-46b2-860a-739652adae7e",
   "metadata": {},
   "source": [
    "# <font color=\"blue\">You Should Know</font>"
   ]
  },
  {
   "cell_type": "markdown",
   "id": "6d107aab-bea3-4fa1-a60e-fc1cead6aafc",
   "metadata": {},
   "source": [
    "# <font color=\"blue\">Most Commonly Used Python Functions.</font>"
   ]
  },
  {
   "cell_type": "markdown",
   "id": "789b05ea-1783-4fcc-9e4a-33a828cf60af",
   "metadata": {},
   "source": [
    "# <font color=\"blue\">Notebook By Khurram.</font>"
   ]
  },
  {
   "cell_type": "markdown",
   "id": "f168617f-705f-48fd-8ddf-675cefaaaab6",
   "metadata": {},
   "source": [
    "## 1. print()"
   ]
  },
  {
   "cell_type": "markdown",
   "id": "135b22e1-e914-46ca-9681-c39ceb3f65af",
   "metadata": {},
   "source": [
    "### Prints text data to the console."
   ]
  },
  {
   "cell_type": "code",
   "execution_count": 1,
   "id": "f81954c6-f8d7-412f-b1fb-f963a69fb99c",
   "metadata": {},
   "outputs": [
    {
     "name": "stdout",
     "output_type": "stream",
     "text": [
      "Hello, World!\n"
     ]
    }
   ],
   "source": [
    "print(\"Hello, World!\")"
   ]
  },
  {
   "cell_type": "markdown",
   "id": "4f5a353a-4673-4f16-99f1-e2cfbf19acee",
   "metadata": {},
   "source": [
    "## 2. len()"
   ]
  },
  {
   "cell_type": "markdown",
   "id": "978bb4d9-3b6b-48be-82df-ebc5f29e637b",
   "metadata": {},
   "source": [
    "### Returns the length of an object (e.g., a list, string, or tuple)."
   ]
  },
  {
   "cell_type": "code",
   "execution_count": 2,
   "id": "cbda92f7-0d22-43cf-b0e5-6276811184fe",
   "metadata": {},
   "outputs": [
    {
     "name": "stdout",
     "output_type": "stream",
     "text": [
      "5\n"
     ]
    }
   ],
   "source": [
    "length = len(\"Hello\")\n",
    "print(length)"
   ]
  },
  {
   "cell_type": "markdown",
   "id": "b557fee0-83e6-43dd-8fea-bdac89fd67f9",
   "metadata": {},
   "source": [
    "## 3. type()"
   ]
  },
  {
   "cell_type": "markdown",
   "id": "6e82da40-b2e3-4e8f-bdad-e1ba023c873b",
   "metadata": {},
   "source": [
    "### Returns the type of an object."
   ]
  },
  {
   "cell_type": "code",
   "execution_count": 3,
   "id": "5c129b8f-60f5-457b-b9b5-9a4e07b5eb86",
   "metadata": {},
   "outputs": [
    {
     "name": "stdout",
     "output_type": "stream",
     "text": [
      "<class 'int'>\n"
     ]
    }
   ],
   "source": [
    "print(type(123))"
   ]
  },
  {
   "cell_type": "markdown",
   "id": "7bf08df4-5fd9-49e1-a21c-6d635e74c08e",
   "metadata": {},
   "source": [
    "## 4. int(), float(), str()"
   ]
  },
  {
   "cell_type": "markdown",
   "id": "21949016-afa5-4ae0-bd1f-31c489458aa5",
   "metadata": {},
   "source": [
    "### Convert values to integers, floating-point numbers, or strings."
   ]
  },
  {
   "cell_type": "code",
   "execution_count": 4,
   "id": "1d03ad30-6125-4d83-896c-95d4acca30bc",
   "metadata": {},
   "outputs": [
    {
     "name": "stdout",
     "output_type": "stream",
     "text": [
      "<class 'int'>\n",
      "<class 'float'>\n",
      "<class 'str'>\n"
     ]
    }
   ],
   "source": [
    "int_number = int(\"42\")\n",
    "float_number = float(\"3.14\")\n",
    "str_string = str(123)\n",
    "\n",
    "print(type(int_number))\n",
    "print(type(float_number))\n",
    "print(type(str_string))"
   ]
  },
  {
   "cell_type": "markdown",
   "id": "85c1f8f9-ca67-4cfa-818e-9d1eb7ea1afe",
   "metadata": {},
   "source": [
    "## 5. range()"
   ]
  },
  {
   "cell_type": "markdown",
   "id": "88205dc5-5dff-4b37-844b-a367bbfd5e78",
   "metadata": {},
   "source": [
    "### Generates a sequence of numbers, often used in loops."
   ]
  },
  {
   "cell_type": "code",
   "execution_count": 5,
   "id": "2e924b05-d517-43a7-80bf-3ae77d695fc3",
   "metadata": {},
   "outputs": [
    {
     "name": "stdout",
     "output_type": "stream",
     "text": [
      "0\n",
      "1\n",
      "2\n",
      "3\n",
      "4\n"
     ]
    }
   ],
   "source": [
    "for i in range(5):\n",
    "    print(i)"
   ]
  },
  {
   "cell_type": "markdown",
   "id": "d77d6b5e-8f07-4c3f-89a7-a796b6b8789c",
   "metadata": {},
   "source": [
    "## 6. list(), tuple(), set(), dict()"
   ]
  },
  {
   "cell_type": "markdown",
   "id": "c07fab52-023d-4ab9-8a38-5832eafb2ae0",
   "metadata": {},
   "source": [
    "### Create list, tuple, set, or dictionary objects."
   ]
  },
  {
   "cell_type": "code",
   "execution_count": 6,
   "id": "eddb4ae1-a7ef-4664-b113-dcbfda24db92",
   "metadata": {},
   "outputs": [
    {
     "name": "stdout",
     "output_type": "stream",
     "text": [
      "[1, 2, 3]\n",
      "<class 'list'>\n"
     ]
    }
   ],
   "source": [
    "list_1 = list([1,2,3])\n",
    "print(list_1)\n",
    "print(type(list_1))"
   ]
  },
  {
   "cell_type": "code",
   "execution_count": 7,
   "id": "a07c2b48-32c2-4517-b31f-ec4006ea462d",
   "metadata": {},
   "outputs": [
    {
     "name": "stdout",
     "output_type": "stream",
     "text": [
      "(1, 2, 3)\n",
      "<class 'tuple'>\n"
     ]
    }
   ],
   "source": [
    "tuple_1 = tuple([1,2,3])\n",
    "print(tuple_1)\n",
    "print(type(tuple_1))"
   ]
  },
  {
   "cell_type": "code",
   "execution_count": 8,
   "id": "6de41f60-9266-417c-bce0-aaac8dea2a8b",
   "metadata": {},
   "outputs": [
    {
     "name": "stdout",
     "output_type": "stream",
     "text": [
      "{1, 2, 3}\n",
      "<class 'set'>\n"
     ]
    }
   ],
   "source": [
    "set_1 = set([1,2,3])\n",
    "print(set_1)\n",
    "print(type(set_1))"
   ]
  },
  {
   "cell_type": "code",
   "execution_count": 9,
   "id": "6bc39e67-3990-44ec-a080-3b838b8844f7",
   "metadata": {},
   "outputs": [
    {
     "name": "stdout",
     "output_type": "stream",
     "text": [
      "{'one': 1, 'two': 2, 'three': 3}\n",
      "<class 'dict'>\n"
     ]
    }
   ],
   "source": [
    "dict_1 = dict([(\"one\",1), (\"two\",2), (\"three\",3)])\n",
    "print(dict_1)\n",
    "print(type(dict_1))"
   ]
  },
  {
   "cell_type": "markdown",
   "id": "61b3c3be-9a2e-4825-b8bc-b89b043583d1",
   "metadata": {},
   "source": [
    "## 7. sum()"
   ]
  },
  {
   "cell_type": "markdown",
   "id": "dc3e041b-f8e0-4865-93ce-d317f2b3e480",
   "metadata": {},
   "source": [
    "### Returns the sum of an iterable."
   ]
  },
  {
   "cell_type": "code",
   "execution_count": 10,
   "id": "e0a47ef4-9fed-4cb9-b54b-285f1f7cd4e8",
   "metadata": {},
   "outputs": [
    {
     "name": "stdout",
     "output_type": "stream",
     "text": [
      "6\n"
     ]
    }
   ],
   "source": [
    "sum_of_numbers = sum([1,2,3])\n",
    "print(sum_of_numbers)"
   ]
  },
  {
   "cell_type": "markdown",
   "id": "dcae66a2-8ece-4b12-b78e-b3141b4d6703",
   "metadata": {},
   "source": [
    "## 8. max(), min()"
   ]
  },
  {
   "cell_type": "markdown",
   "id": "102f8285-8ba6-4f82-a35d-7705487f0ca3",
   "metadata": {},
   "source": [
    "### Return the largest or smallest item in an iterable."
   ]
  },
  {
   "cell_type": "code",
   "execution_count": 11,
   "id": "472cbbb7-eb1c-4e1a-bfe9-b16d2f611f00",
   "metadata": {},
   "outputs": [
    {
     "name": "stdout",
     "output_type": "stream",
     "text": [
      "3\n",
      "1\n"
     ]
    }
   ],
   "source": [
    "max_number = max([1, 2, 3])\n",
    "min_number = min([1, 2, 3])\n",
    "print(max_number)\n",
    "print(min_number)"
   ]
  },
  {
   "cell_type": "markdown",
   "id": "354a54e8-dca8-4557-b66f-a0744a06d118",
   "metadata": {},
   "source": [
    "## 9. abs()"
   ]
  },
  {
   "cell_type": "markdown",
   "id": "de9b5587-94a5-454a-9dd7-959eab80f545",
   "metadata": {},
   "source": [
    "### Returns the absolute value of a number."
   ]
  },
  {
   "cell_type": "code",
   "execution_count": 12,
   "id": "0d1955a9-131e-4510-b7e2-b35dd2532f0c",
   "metadata": {},
   "outputs": [
    {
     "name": "stdout",
     "output_type": "stream",
     "text": [
      "10\n"
     ]
    }
   ],
   "source": [
    "absolute_value = abs(-10)\n",
    "print(absolute_value)"
   ]
  },
  {
   "cell_type": "markdown",
   "id": "ea1e7ae4-ec6b-4687-8547-295b051d417b",
   "metadata": {},
   "source": [
    "## 10. sorted()"
   ]
  },
  {
   "cell_type": "markdown",
   "id": "ad67172f-784a-4445-a677-f141496f0792",
   "metadata": {},
   "source": [
    "### Returns a new sorted list from the elements of any iterable."
   ]
  },
  {
   "cell_type": "code",
   "execution_count": 13,
   "id": "ace2d5f3-45ab-434c-b7f1-84a38294fc96",
   "metadata": {},
   "outputs": [
    {
     "name": "stdout",
     "output_type": "stream",
     "text": [
      "[1, 2, 3]\n"
     ]
    }
   ],
   "source": [
    "sorted_list = sorted([3, 1, 2])\n",
    "print(sorted_list)"
   ]
  },
  {
   "cell_type": "markdown",
   "id": "2508953d-0414-4d65-b650-0d2890518ea7",
   "metadata": {},
   "source": [
    "## 11. map()"
   ]
  },
  {
   "cell_type": "markdown",
   "id": "eaddd88a-993c-4855-b5f6-f5c5d3d289c2",
   "metadata": {},
   "source": [
    "### Applies a function to all items in an iterable."
   ]
  },
  {
   "cell_type": "code",
   "execution_count": 14,
   "id": "26096d9b-169e-45d8-b66b-1bef84436a62",
   "metadata": {},
   "outputs": [
    {
     "name": "stdout",
     "output_type": "stream",
     "text": [
      "['1', '2', '3']\n",
      "<class 'str'>\n"
     ]
    }
   ],
   "source": [
    "string_list = list(map(str, [1, 2, 3]))\n",
    "print(string_list)\n",
    "print(type(string_list[0]))"
   ]
  },
  {
   "cell_type": "markdown",
   "id": "2bc02964-9eca-4deb-bab5-40879eec54dd",
   "metadata": {},
   "source": [
    "## 12. all(), any()"
   ]
  },
  {
   "cell_type": "markdown",
   "id": "5b8bc2f9-b9cf-49a2-bfba-aee16037355b",
   "metadata": {},
   "source": [
    "### Check if all or any elements of an iterable are true."
   ]
  },
  {
   "cell_type": "code",
   "execution_count": 15,
   "id": "5236579d-f3aa-428d-823e-7e27204d1e42",
   "metadata": {},
   "outputs": [
    {
     "name": "stdout",
     "output_type": "stream",
     "text": [
      "False\n",
      "True\n"
     ]
    }
   ],
   "source": [
    "if_all_true = all([True, True, False])\n",
    "if_any_true = any([True, True, False])\n",
    "print(if_all_true)\n",
    "print(if_any_true)"
   ]
  }
 ],
 "metadata": {
  "kernelspec": {
   "display_name": "Python 3 (ipykernel)",
   "language": "python",
   "name": "python3"
  },
  "language_info": {
   "codemirror_mode": {
    "name": "ipython",
    "version": 3
   },
   "file_extension": ".py",
   "mimetype": "text/x-python",
   "name": "python",
   "nbconvert_exporter": "python",
   "pygments_lexer": "ipython3",
   "version": "3.12.4"
  }
 },
 "nbformat": 4,
 "nbformat_minor": 5
}
